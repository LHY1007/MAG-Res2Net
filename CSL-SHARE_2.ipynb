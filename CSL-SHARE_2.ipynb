{
 "cells": [
  {
   "cell_type": "code",
   "execution_count": 1,
   "metadata": {
    "collapsed": true
   },
   "outputs": [],
   "source": [
    "import os\n",
    "import pandas as pd\n",
    "from sklearn.preprocessing import LabelEncoder\n",
    "label_encode = LabelEncoder()\n",
    "data_dict = {}\n",
    "name = [\"1\", \"2\", \"3\", \"4\",\"5\", \"6\", \"7\", \"8\",\"9\", \"10\", \"11\", \"12\",\"13\", \"14\", \"15\", \"16\",\"17\", \"18\",\"19\", \"activity\"]\n",
    "data_list = []\n",
    "for i in range(1, 21):\n",
    "    x = 18\n",
    "    if i ==16:\n",
    "        x = 14\n",
    "    folder = '%02ddata' % i\n",
    "    data_dict[folder] = {}\n",
    "    for j in range(1, x):\n",
    "        filename = '{}.csv'.format(j)\n",
    "        filepath = os.path.join(folder, filename)\n",
    "        #data_dict[folder][j] = pd.read_csv(filepath,names=name)\n",
    "        #data_dict[folder][j][\"activityEncode\"] = label_encode.fit_transform(data_dict[folder][j][\"activity\"].values.ravel())\n",
    "        data = pd.read_csv(filepath,names=name)\n",
    "        data['user-id'] = [i] * len(data)\n",
    "        data_list.append(data)\n"
   ]
  },
  {
   "cell_type": "code",
   "execution_count": 2,
   "outputs": [],
   "source": [
    "combined_data = pd.concat(data_list, axis=0, ignore_index=True)"
   ],
   "metadata": {
    "collapsed": false
   }
  },
  {
   "cell_type": "code",
   "execution_count": 3,
   "outputs": [
    {
     "data": {
      "text/plain": "              1      2      3      4      5      6      7      8      9  \\\n0         38658  32423  32763  33863  33180  33154  37216  34168  34272   \n1         37928  32173  32973  33409  32926  33154  37216  34168  34272   \n2         34765  32093  32946  34851  32397  33154  37216  34168  34272   \n3         36068  32653  32843  34061  32267  33154  37216  34168  34272   \n4         32098  33146  33192  34309  32484  33154  37216  34168  34272   \n...         ...    ...    ...    ...    ...    ...    ...    ...    ...   \n21580893  33042  32887  32761  32553  32391  34600  36948  33170  33808   \n21580894  32854  32704  32671  32573  32632  34600  36948  33170  33808   \n21580895  32514  32541  32698  32693  34241  34600  36948  33170  33808   \n21580896  32455  32603  32674  32558  32206  34600  36948  33170  33808   \n21580897  32520  32714  32669  32556  32716  34600  36948  33170  33808   \n\n             10  ...     12     13     14     15     16     17     18     19  \\\n0         32996  ...  35516  27596  28400  29768  28008  28816  28468  28256   \n1         32996  ...  35516  27596  28400  29768  28008  28816  28468  28256   \n2         32996  ...  35516  27596  28400  29768  28008  28816  28468  28256   \n3         32996  ...  35516  27596  28400  29768  28008  28816  28468  28256   \n4         32996  ...  35516  27596  28400  29768  28008  28816  28468  28256   \n...         ...  ...    ...    ...    ...    ...    ...    ...    ...    ...   \n21580893  33592  ...  35796  28802  27376  29400  28280  32132  28597  29249   \n21580894  33592  ...  35796  28802  27376  29400  28280  32132  28597  29249   \n21580895  33592  ...  35796  28802  27376  29400  28280  32132  28597  29249   \n21580896  33592  ...  35796  28802  27376  29400  28280  32132  28597  29249   \n21580897  33592  ...  35796  28802  27376  29400  28280  32132  28597  29249   \n\n          activity user-id  \n0             walk       1  \n1             walk       1  \n2             walk       1  \n3             walk       1  \n4             walk       1  \n...            ...     ...  \n21580893     stand      20  \n21580894     stand      20  \n21580895     stand      20  \n21580896     stand      20  \n21580897     stand      20  \n\n[21580898 rows x 21 columns]",
      "text/html": "<div>\n<style scoped>\n    .dataframe tbody tr th:only-of-type {\n        vertical-align: middle;\n    }\n\n    .dataframe tbody tr th {\n        vertical-align: top;\n    }\n\n    .dataframe thead th {\n        text-align: right;\n    }\n</style>\n<table border=\"1\" class=\"dataframe\">\n  <thead>\n    <tr style=\"text-align: right;\">\n      <th></th>\n      <th>1</th>\n      <th>2</th>\n      <th>3</th>\n      <th>4</th>\n      <th>5</th>\n      <th>6</th>\n      <th>7</th>\n      <th>8</th>\n      <th>9</th>\n      <th>10</th>\n      <th>...</th>\n      <th>12</th>\n      <th>13</th>\n      <th>14</th>\n      <th>15</th>\n      <th>16</th>\n      <th>17</th>\n      <th>18</th>\n      <th>19</th>\n      <th>activity</th>\n      <th>user-id</th>\n    </tr>\n  </thead>\n  <tbody>\n    <tr>\n      <th>0</th>\n      <td>38658</td>\n      <td>32423</td>\n      <td>32763</td>\n      <td>33863</td>\n      <td>33180</td>\n      <td>33154</td>\n      <td>37216</td>\n      <td>34168</td>\n      <td>34272</td>\n      <td>32996</td>\n      <td>...</td>\n      <td>35516</td>\n      <td>27596</td>\n      <td>28400</td>\n      <td>29768</td>\n      <td>28008</td>\n      <td>28816</td>\n      <td>28468</td>\n      <td>28256</td>\n      <td>walk</td>\n      <td>1</td>\n    </tr>\n    <tr>\n      <th>1</th>\n      <td>37928</td>\n      <td>32173</td>\n      <td>32973</td>\n      <td>33409</td>\n      <td>32926</td>\n      <td>33154</td>\n      <td>37216</td>\n      <td>34168</td>\n      <td>34272</td>\n      <td>32996</td>\n      <td>...</td>\n      <td>35516</td>\n      <td>27596</td>\n      <td>28400</td>\n      <td>29768</td>\n      <td>28008</td>\n      <td>28816</td>\n      <td>28468</td>\n      <td>28256</td>\n      <td>walk</td>\n      <td>1</td>\n    </tr>\n    <tr>\n      <th>2</th>\n      <td>34765</td>\n      <td>32093</td>\n      <td>32946</td>\n      <td>34851</td>\n      <td>32397</td>\n      <td>33154</td>\n      <td>37216</td>\n      <td>34168</td>\n      <td>34272</td>\n      <td>32996</td>\n      <td>...</td>\n      <td>35516</td>\n      <td>27596</td>\n      <td>28400</td>\n      <td>29768</td>\n      <td>28008</td>\n      <td>28816</td>\n      <td>28468</td>\n      <td>28256</td>\n      <td>walk</td>\n      <td>1</td>\n    </tr>\n    <tr>\n      <th>3</th>\n      <td>36068</td>\n      <td>32653</td>\n      <td>32843</td>\n      <td>34061</td>\n      <td>32267</td>\n      <td>33154</td>\n      <td>37216</td>\n      <td>34168</td>\n      <td>34272</td>\n      <td>32996</td>\n      <td>...</td>\n      <td>35516</td>\n      <td>27596</td>\n      <td>28400</td>\n      <td>29768</td>\n      <td>28008</td>\n      <td>28816</td>\n      <td>28468</td>\n      <td>28256</td>\n      <td>walk</td>\n      <td>1</td>\n    </tr>\n    <tr>\n      <th>4</th>\n      <td>32098</td>\n      <td>33146</td>\n      <td>33192</td>\n      <td>34309</td>\n      <td>32484</td>\n      <td>33154</td>\n      <td>37216</td>\n      <td>34168</td>\n      <td>34272</td>\n      <td>32996</td>\n      <td>...</td>\n      <td>35516</td>\n      <td>27596</td>\n      <td>28400</td>\n      <td>29768</td>\n      <td>28008</td>\n      <td>28816</td>\n      <td>28468</td>\n      <td>28256</td>\n      <td>walk</td>\n      <td>1</td>\n    </tr>\n    <tr>\n      <th>...</th>\n      <td>...</td>\n      <td>...</td>\n      <td>...</td>\n      <td>...</td>\n      <td>...</td>\n      <td>...</td>\n      <td>...</td>\n      <td>...</td>\n      <td>...</td>\n      <td>...</td>\n      <td>...</td>\n      <td>...</td>\n      <td>...</td>\n      <td>...</td>\n      <td>...</td>\n      <td>...</td>\n      <td>...</td>\n      <td>...</td>\n      <td>...</td>\n      <td>...</td>\n      <td>...</td>\n    </tr>\n    <tr>\n      <th>21580893</th>\n      <td>33042</td>\n      <td>32887</td>\n      <td>32761</td>\n      <td>32553</td>\n      <td>32391</td>\n      <td>34600</td>\n      <td>36948</td>\n      <td>33170</td>\n      <td>33808</td>\n      <td>33592</td>\n      <td>...</td>\n      <td>35796</td>\n      <td>28802</td>\n      <td>27376</td>\n      <td>29400</td>\n      <td>28280</td>\n      <td>32132</td>\n      <td>28597</td>\n      <td>29249</td>\n      <td>stand</td>\n      <td>20</td>\n    </tr>\n    <tr>\n      <th>21580894</th>\n      <td>32854</td>\n      <td>32704</td>\n      <td>32671</td>\n      <td>32573</td>\n      <td>32632</td>\n      <td>34600</td>\n      <td>36948</td>\n      <td>33170</td>\n      <td>33808</td>\n      <td>33592</td>\n      <td>...</td>\n      <td>35796</td>\n      <td>28802</td>\n      <td>27376</td>\n      <td>29400</td>\n      <td>28280</td>\n      <td>32132</td>\n      <td>28597</td>\n      <td>29249</td>\n      <td>stand</td>\n      <td>20</td>\n    </tr>\n    <tr>\n      <th>21580895</th>\n      <td>32514</td>\n      <td>32541</td>\n      <td>32698</td>\n      <td>32693</td>\n      <td>34241</td>\n      <td>34600</td>\n      <td>36948</td>\n      <td>33170</td>\n      <td>33808</td>\n      <td>33592</td>\n      <td>...</td>\n      <td>35796</td>\n      <td>28802</td>\n      <td>27376</td>\n      <td>29400</td>\n      <td>28280</td>\n      <td>32132</td>\n      <td>28597</td>\n      <td>29249</td>\n      <td>stand</td>\n      <td>20</td>\n    </tr>\n    <tr>\n      <th>21580896</th>\n      <td>32455</td>\n      <td>32603</td>\n      <td>32674</td>\n      <td>32558</td>\n      <td>32206</td>\n      <td>34600</td>\n      <td>36948</td>\n      <td>33170</td>\n      <td>33808</td>\n      <td>33592</td>\n      <td>...</td>\n      <td>35796</td>\n      <td>28802</td>\n      <td>27376</td>\n      <td>29400</td>\n      <td>28280</td>\n      <td>32132</td>\n      <td>28597</td>\n      <td>29249</td>\n      <td>stand</td>\n      <td>20</td>\n    </tr>\n    <tr>\n      <th>21580897</th>\n      <td>32520</td>\n      <td>32714</td>\n      <td>32669</td>\n      <td>32556</td>\n      <td>32716</td>\n      <td>34600</td>\n      <td>36948</td>\n      <td>33170</td>\n      <td>33808</td>\n      <td>33592</td>\n      <td>...</td>\n      <td>35796</td>\n      <td>28802</td>\n      <td>27376</td>\n      <td>29400</td>\n      <td>28280</td>\n      <td>32132</td>\n      <td>28597</td>\n      <td>29249</td>\n      <td>stand</td>\n      <td>20</td>\n    </tr>\n  </tbody>\n</table>\n<p>21580898 rows × 21 columns</p>\n</div>"
     },
     "execution_count": 3,
     "metadata": {},
     "output_type": "execute_result"
    }
   ],
   "source": [
    "combined_data"
   ],
   "metadata": {
    "collapsed": false
   }
  },
  {
   "cell_type": "code",
   "execution_count": 4,
   "outputs": [],
   "source": [
    "from pandas import read_csv, unique\n",
    "\n",
    "import numpy as np\n",
    "\n",
    "from scipy.interpolate import interp1d\n",
    "from scipy.stats import mode\n",
    "\n",
    "from sklearn.preprocessing import LabelEncoder\n",
    "from sklearn.metrics import classification_report, confusion_matrix, ConfusionMatrixDisplay\n",
    "\n",
    "from tensorflow import stack\n",
    "#from tensorflow.keras.utils import to_categorical\n",
    "from keras.models import Sequential\n",
    "from keras.layers import Dense, GlobalAveragePooling1D, BatchNormalization, MaxPool1D, Reshape, Activation\n",
    "from keras.layers import Conv1D, LSTM\n",
    "from keras.callbacks import ModelCheckpoint, EarlyStopping\n",
    "import matplotlib.pyplot as plt\n",
    "%matplotlib inline\n",
    "\n",
    "import warnings\n",
    "warnings.filterwarnings(\"ignore\")\n"
   ],
   "metadata": {
    "collapsed": false
   }
  },
  {
   "cell_type": "code",
   "execution_count": 5,
   "outputs": [
    {
     "data": {
      "text/plain": "              1      2      3      4      5      6      7      8      9  \\\n0         38658  32423  32763  33863  33180  33154  37216  34168  34272   \n1         37928  32173  32973  33409  32926  33154  37216  34168  34272   \n2         34765  32093  32946  34851  32397  33154  37216  34168  34272   \n3         36068  32653  32843  34061  32267  33154  37216  34168  34272   \n4         32098  33146  33192  34309  32484  33154  37216  34168  34272   \n...         ...    ...    ...    ...    ...    ...    ...    ...    ...   \n21580893  33042  32887  32761  32553  32391  34600  36948  33170  33808   \n21580894  32854  32704  32671  32573  32632  34600  36948  33170  33808   \n21580895  32514  32541  32698  32693  34241  34600  36948  33170  33808   \n21580896  32455  32603  32674  32558  32206  34600  36948  33170  33808   \n21580897  32520  32714  32669  32556  32716  34600  36948  33170  33808   \n\n             10  ...     13     14     15     16     17     18     19  \\\n0         32996  ...  27596  28400  29768  28008  28816  28468  28256   \n1         32996  ...  27596  28400  29768  28008  28816  28468  28256   \n2         32996  ...  27596  28400  29768  28008  28816  28468  28256   \n3         32996  ...  27596  28400  29768  28008  28816  28468  28256   \n4         32996  ...  27596  28400  29768  28008  28816  28468  28256   \n...         ...  ...    ...    ...    ...    ...    ...    ...    ...   \n21580893  33592  ...  28802  27376  29400  28280  32132  28597  29249   \n21580894  33592  ...  28802  27376  29400  28280  32132  28597  29249   \n21580895  33592  ...  28802  27376  29400  28280  32132  28597  29249   \n21580896  33592  ...  28802  27376  29400  28280  32132  28597  29249   \n21580897  33592  ...  28802  27376  29400  28280  32132  28597  29249   \n\n          activity  user-id activityEncode  \n0             walk        1             17  \n1             walk        1             17  \n2             walk        1             17  \n3             walk        1             17  \n4             walk        1             17  \n...            ...      ...            ...  \n21580893     stand       20             11  \n21580894     stand       20             11  \n21580895     stand       20             11  \n21580896     stand       20             11  \n21580897     stand       20             11  \n\n[21580898 rows x 22 columns]",
      "text/html": "<div>\n<style scoped>\n    .dataframe tbody tr th:only-of-type {\n        vertical-align: middle;\n    }\n\n    .dataframe tbody tr th {\n        vertical-align: top;\n    }\n\n    .dataframe thead th {\n        text-align: right;\n    }\n</style>\n<table border=\"1\" class=\"dataframe\">\n  <thead>\n    <tr style=\"text-align: right;\">\n      <th></th>\n      <th>1</th>\n      <th>2</th>\n      <th>3</th>\n      <th>4</th>\n      <th>5</th>\n      <th>6</th>\n      <th>7</th>\n      <th>8</th>\n      <th>9</th>\n      <th>10</th>\n      <th>...</th>\n      <th>13</th>\n      <th>14</th>\n      <th>15</th>\n      <th>16</th>\n      <th>17</th>\n      <th>18</th>\n      <th>19</th>\n      <th>activity</th>\n      <th>user-id</th>\n      <th>activityEncode</th>\n    </tr>\n  </thead>\n  <tbody>\n    <tr>\n      <th>0</th>\n      <td>38658</td>\n      <td>32423</td>\n      <td>32763</td>\n      <td>33863</td>\n      <td>33180</td>\n      <td>33154</td>\n      <td>37216</td>\n      <td>34168</td>\n      <td>34272</td>\n      <td>32996</td>\n      <td>...</td>\n      <td>27596</td>\n      <td>28400</td>\n      <td>29768</td>\n      <td>28008</td>\n      <td>28816</td>\n      <td>28468</td>\n      <td>28256</td>\n      <td>walk</td>\n      <td>1</td>\n      <td>17</td>\n    </tr>\n    <tr>\n      <th>1</th>\n      <td>37928</td>\n      <td>32173</td>\n      <td>32973</td>\n      <td>33409</td>\n      <td>32926</td>\n      <td>33154</td>\n      <td>37216</td>\n      <td>34168</td>\n      <td>34272</td>\n      <td>32996</td>\n      <td>...</td>\n      <td>27596</td>\n      <td>28400</td>\n      <td>29768</td>\n      <td>28008</td>\n      <td>28816</td>\n      <td>28468</td>\n      <td>28256</td>\n      <td>walk</td>\n      <td>1</td>\n      <td>17</td>\n    </tr>\n    <tr>\n      <th>2</th>\n      <td>34765</td>\n      <td>32093</td>\n      <td>32946</td>\n      <td>34851</td>\n      <td>32397</td>\n      <td>33154</td>\n      <td>37216</td>\n      <td>34168</td>\n      <td>34272</td>\n      <td>32996</td>\n      <td>...</td>\n      <td>27596</td>\n      <td>28400</td>\n      <td>29768</td>\n      <td>28008</td>\n      <td>28816</td>\n      <td>28468</td>\n      <td>28256</td>\n      <td>walk</td>\n      <td>1</td>\n      <td>17</td>\n    </tr>\n    <tr>\n      <th>3</th>\n      <td>36068</td>\n      <td>32653</td>\n      <td>32843</td>\n      <td>34061</td>\n      <td>32267</td>\n      <td>33154</td>\n      <td>37216</td>\n      <td>34168</td>\n      <td>34272</td>\n      <td>32996</td>\n      <td>...</td>\n      <td>27596</td>\n      <td>28400</td>\n      <td>29768</td>\n      <td>28008</td>\n      <td>28816</td>\n      <td>28468</td>\n      <td>28256</td>\n      <td>walk</td>\n      <td>1</td>\n      <td>17</td>\n    </tr>\n    <tr>\n      <th>4</th>\n      <td>32098</td>\n      <td>33146</td>\n      <td>33192</td>\n      <td>34309</td>\n      <td>32484</td>\n      <td>33154</td>\n      <td>37216</td>\n      <td>34168</td>\n      <td>34272</td>\n      <td>32996</td>\n      <td>...</td>\n      <td>27596</td>\n      <td>28400</td>\n      <td>29768</td>\n      <td>28008</td>\n      <td>28816</td>\n      <td>28468</td>\n      <td>28256</td>\n      <td>walk</td>\n      <td>1</td>\n      <td>17</td>\n    </tr>\n    <tr>\n      <th>...</th>\n      <td>...</td>\n      <td>...</td>\n      <td>...</td>\n      <td>...</td>\n      <td>...</td>\n      <td>...</td>\n      <td>...</td>\n      <td>...</td>\n      <td>...</td>\n      <td>...</td>\n      <td>...</td>\n      <td>...</td>\n      <td>...</td>\n      <td>...</td>\n      <td>...</td>\n      <td>...</td>\n      <td>...</td>\n      <td>...</td>\n      <td>...</td>\n      <td>...</td>\n      <td>...</td>\n    </tr>\n    <tr>\n      <th>21580893</th>\n      <td>33042</td>\n      <td>32887</td>\n      <td>32761</td>\n      <td>32553</td>\n      <td>32391</td>\n      <td>34600</td>\n      <td>36948</td>\n      <td>33170</td>\n      <td>33808</td>\n      <td>33592</td>\n      <td>...</td>\n      <td>28802</td>\n      <td>27376</td>\n      <td>29400</td>\n      <td>28280</td>\n      <td>32132</td>\n      <td>28597</td>\n      <td>29249</td>\n      <td>stand</td>\n      <td>20</td>\n      <td>11</td>\n    </tr>\n    <tr>\n      <th>21580894</th>\n      <td>32854</td>\n      <td>32704</td>\n      <td>32671</td>\n      <td>32573</td>\n      <td>32632</td>\n      <td>34600</td>\n      <td>36948</td>\n      <td>33170</td>\n      <td>33808</td>\n      <td>33592</td>\n      <td>...</td>\n      <td>28802</td>\n      <td>27376</td>\n      <td>29400</td>\n      <td>28280</td>\n      <td>32132</td>\n      <td>28597</td>\n      <td>29249</td>\n      <td>stand</td>\n      <td>20</td>\n      <td>11</td>\n    </tr>\n    <tr>\n      <th>21580895</th>\n      <td>32514</td>\n      <td>32541</td>\n      <td>32698</td>\n      <td>32693</td>\n      <td>34241</td>\n      <td>34600</td>\n      <td>36948</td>\n      <td>33170</td>\n      <td>33808</td>\n      <td>33592</td>\n      <td>...</td>\n      <td>28802</td>\n      <td>27376</td>\n      <td>29400</td>\n      <td>28280</td>\n      <td>32132</td>\n      <td>28597</td>\n      <td>29249</td>\n      <td>stand</td>\n      <td>20</td>\n      <td>11</td>\n    </tr>\n    <tr>\n      <th>21580896</th>\n      <td>32455</td>\n      <td>32603</td>\n      <td>32674</td>\n      <td>32558</td>\n      <td>32206</td>\n      <td>34600</td>\n      <td>36948</td>\n      <td>33170</td>\n      <td>33808</td>\n      <td>33592</td>\n      <td>...</td>\n      <td>28802</td>\n      <td>27376</td>\n      <td>29400</td>\n      <td>28280</td>\n      <td>32132</td>\n      <td>28597</td>\n      <td>29249</td>\n      <td>stand</td>\n      <td>20</td>\n      <td>11</td>\n    </tr>\n    <tr>\n      <th>21580897</th>\n      <td>32520</td>\n      <td>32714</td>\n      <td>32669</td>\n      <td>32556</td>\n      <td>32716</td>\n      <td>34600</td>\n      <td>36948</td>\n      <td>33170</td>\n      <td>33808</td>\n      <td>33592</td>\n      <td>...</td>\n      <td>28802</td>\n      <td>27376</td>\n      <td>29400</td>\n      <td>28280</td>\n      <td>32132</td>\n      <td>28597</td>\n      <td>29249</td>\n      <td>stand</td>\n      <td>20</td>\n      <td>11</td>\n    </tr>\n  </tbody>\n</table>\n<p>21580898 rows × 22 columns</p>\n</div>"
     },
     "execution_count": 5,
     "metadata": {},
     "output_type": "execute_result"
    }
   ],
   "source": [
    "label_encode = LabelEncoder()\n",
    "combined_data['activityEncode'] = label_encode.fit_transform(combined_data['activity'].values.ravel())\n",
    "combined_data"
   ],
   "metadata": {
    "collapsed": false
   }
  },
  {
   "cell_type": "code",
   "execution_count": 6,
   "outputs": [],
   "source": [
    "df_test = combined_data[combined_data['user-id'] > 16]\n",
    "df_train = combined_data[combined_data['user-id'] <= 16]"
   ],
   "metadata": {
    "collapsed": false
   }
  },
  {
   "cell_type": "code",
   "execution_count": 7,
   "outputs": [
    {
     "data": {
      "text/plain": "                 1         2         3         4         5         6  \\\n0         0.589883  0.494743  0.499931  0.516716  0.506294  0.588358   \n1         0.578744  0.490929  0.503136  0.509789  0.502419  0.588358   \n2         0.530480  0.489708  0.502724  0.531792  0.494347  0.588358   \n3         0.550362  0.498253  0.501152  0.519738  0.492363  0.588358   \n4         0.489784  0.505776  0.506477  0.523522  0.495674  0.588358   \n...            ...       ...       ...       ...       ...       ...   \n17144612  0.501579  0.501030  0.487739  0.500999  0.490043  0.588536   \n17144613  0.501839  0.503960  0.495262  0.499443  0.513558  0.588536   \n17144614  0.500771  0.500481  0.499657  0.502190  0.524269  0.588536   \n17144615  0.501595  0.500374  0.503426  0.502312  0.520211  0.588536   \n17144616  0.501793  0.500587  0.500816  0.500908  0.517372  0.587560   \n\n                 7         8         9        10  ...        13        14  \\\n0         0.590938  0.538290  0.620165  0.496135  ...  0.715279  0.433335   \n1         0.590938  0.538290  0.620165  0.496135  ...  0.715279  0.433335   \n2         0.590938  0.538290  0.620165  0.496135  ...  0.715279  0.433335   \n3         0.590938  0.538290  0.620165  0.496135  ...  0.715279  0.433335   \n4         0.590938  0.538290  0.620165  0.496135  ...  0.715279  0.433335   \n...            ...       ...       ...       ...  ...       ...       ...   \n17144612  0.585078  0.547143  0.730659  0.463551  ...  0.742725  0.499542   \n17144613  0.585078  0.547143  0.730659  0.463551  ...  0.742725  0.499542   \n17144614  0.585078  0.547143  0.730659  0.463551  ...  0.742725  0.499542   \n17144615  0.585078  0.547143  0.730659  0.463551  ...  0.742725  0.499542   \n17144616  0.585842  0.545675  0.723526  0.462859  ...  0.739885  0.499603   \n\n                15        16        17        18        19         activity  \\\n0         0.454265  0.426763  0.439652  0.434349  0.431008             walk   \n1         0.454265  0.426763  0.439652  0.434349  0.431008             walk   \n2         0.454265  0.426763  0.439652  0.434349  0.431008             walk   \n3         0.454265  0.426763  0.439652  0.434349  0.431008             walk   \n4         0.454265  0.426763  0.439652  0.434349  0.431008             walk   \n...            ...       ...       ...       ...       ...              ...   \n17144612  0.415749  0.441317  0.480128  0.382295  0.440241  walk-downstairs   \n17144613  0.415749  0.441317  0.480128  0.382295  0.440241  walk-downstairs   \n17144614  0.415749  0.441317  0.480128  0.382295  0.440241  walk-downstairs   \n17144615  0.415749  0.441317  0.480128  0.382295  0.440241  walk-downstairs   \n17144616  0.430093  0.432527  0.519628  0.391253  0.451002  walk-downstairs   \n\n          user-id activityEncode  \n0               1             17  \n1               1             17  \n2               1             17  \n3               1             17  \n4               1             17  \n...           ...            ...  \n17144612       16             20  \n17144613       16             20  \n17144614       16             20  \n17144615       16             20  \n17144616       16             20  \n\n[17144617 rows x 22 columns]",
      "text/html": "<div>\n<style scoped>\n    .dataframe tbody tr th:only-of-type {\n        vertical-align: middle;\n    }\n\n    .dataframe tbody tr th {\n        vertical-align: top;\n    }\n\n    .dataframe thead th {\n        text-align: right;\n    }\n</style>\n<table border=\"1\" class=\"dataframe\">\n  <thead>\n    <tr style=\"text-align: right;\">\n      <th></th>\n      <th>1</th>\n      <th>2</th>\n      <th>3</th>\n      <th>4</th>\n      <th>5</th>\n      <th>6</th>\n      <th>7</th>\n      <th>8</th>\n      <th>9</th>\n      <th>10</th>\n      <th>...</th>\n      <th>13</th>\n      <th>14</th>\n      <th>15</th>\n      <th>16</th>\n      <th>17</th>\n      <th>18</th>\n      <th>19</th>\n      <th>activity</th>\n      <th>user-id</th>\n      <th>activityEncode</th>\n    </tr>\n  </thead>\n  <tbody>\n    <tr>\n      <th>0</th>\n      <td>0.589883</td>\n      <td>0.494743</td>\n      <td>0.499931</td>\n      <td>0.516716</td>\n      <td>0.506294</td>\n      <td>0.588358</td>\n      <td>0.590938</td>\n      <td>0.538290</td>\n      <td>0.620165</td>\n      <td>0.496135</td>\n      <td>...</td>\n      <td>0.715279</td>\n      <td>0.433335</td>\n      <td>0.454265</td>\n      <td>0.426763</td>\n      <td>0.439652</td>\n      <td>0.434349</td>\n      <td>0.431008</td>\n      <td>walk</td>\n      <td>1</td>\n      <td>17</td>\n    </tr>\n    <tr>\n      <th>1</th>\n      <td>0.578744</td>\n      <td>0.490929</td>\n      <td>0.503136</td>\n      <td>0.509789</td>\n      <td>0.502419</td>\n      <td>0.588358</td>\n      <td>0.590938</td>\n      <td>0.538290</td>\n      <td>0.620165</td>\n      <td>0.496135</td>\n      <td>...</td>\n      <td>0.715279</td>\n      <td>0.433335</td>\n      <td>0.454265</td>\n      <td>0.426763</td>\n      <td>0.439652</td>\n      <td>0.434349</td>\n      <td>0.431008</td>\n      <td>walk</td>\n      <td>1</td>\n      <td>17</td>\n    </tr>\n    <tr>\n      <th>2</th>\n      <td>0.530480</td>\n      <td>0.489708</td>\n      <td>0.502724</td>\n      <td>0.531792</td>\n      <td>0.494347</td>\n      <td>0.588358</td>\n      <td>0.590938</td>\n      <td>0.538290</td>\n      <td>0.620165</td>\n      <td>0.496135</td>\n      <td>...</td>\n      <td>0.715279</td>\n      <td>0.433335</td>\n      <td>0.454265</td>\n      <td>0.426763</td>\n      <td>0.439652</td>\n      <td>0.434349</td>\n      <td>0.431008</td>\n      <td>walk</td>\n      <td>1</td>\n      <td>17</td>\n    </tr>\n    <tr>\n      <th>3</th>\n      <td>0.550362</td>\n      <td>0.498253</td>\n      <td>0.501152</td>\n      <td>0.519738</td>\n      <td>0.492363</td>\n      <td>0.588358</td>\n      <td>0.590938</td>\n      <td>0.538290</td>\n      <td>0.620165</td>\n      <td>0.496135</td>\n      <td>...</td>\n      <td>0.715279</td>\n      <td>0.433335</td>\n      <td>0.454265</td>\n      <td>0.426763</td>\n      <td>0.439652</td>\n      <td>0.434349</td>\n      <td>0.431008</td>\n      <td>walk</td>\n      <td>1</td>\n      <td>17</td>\n    </tr>\n    <tr>\n      <th>4</th>\n      <td>0.489784</td>\n      <td>0.505776</td>\n      <td>0.506477</td>\n      <td>0.523522</td>\n      <td>0.495674</td>\n      <td>0.588358</td>\n      <td>0.590938</td>\n      <td>0.538290</td>\n      <td>0.620165</td>\n      <td>0.496135</td>\n      <td>...</td>\n      <td>0.715279</td>\n      <td>0.433335</td>\n      <td>0.454265</td>\n      <td>0.426763</td>\n      <td>0.439652</td>\n      <td>0.434349</td>\n      <td>0.431008</td>\n      <td>walk</td>\n      <td>1</td>\n      <td>17</td>\n    </tr>\n    <tr>\n      <th>...</th>\n      <td>...</td>\n      <td>...</td>\n      <td>...</td>\n      <td>...</td>\n      <td>...</td>\n      <td>...</td>\n      <td>...</td>\n      <td>...</td>\n      <td>...</td>\n      <td>...</td>\n      <td>...</td>\n      <td>...</td>\n      <td>...</td>\n      <td>...</td>\n      <td>...</td>\n      <td>...</td>\n      <td>...</td>\n      <td>...</td>\n      <td>...</td>\n      <td>...</td>\n      <td>...</td>\n    </tr>\n    <tr>\n      <th>17144612</th>\n      <td>0.501579</td>\n      <td>0.501030</td>\n      <td>0.487739</td>\n      <td>0.500999</td>\n      <td>0.490043</td>\n      <td>0.588536</td>\n      <td>0.585078</td>\n      <td>0.547143</td>\n      <td>0.730659</td>\n      <td>0.463551</td>\n      <td>...</td>\n      <td>0.742725</td>\n      <td>0.499542</td>\n      <td>0.415749</td>\n      <td>0.441317</td>\n      <td>0.480128</td>\n      <td>0.382295</td>\n      <td>0.440241</td>\n      <td>walk-downstairs</td>\n      <td>16</td>\n      <td>20</td>\n    </tr>\n    <tr>\n      <th>17144613</th>\n      <td>0.501839</td>\n      <td>0.503960</td>\n      <td>0.495262</td>\n      <td>0.499443</td>\n      <td>0.513558</td>\n      <td>0.588536</td>\n      <td>0.585078</td>\n      <td>0.547143</td>\n      <td>0.730659</td>\n      <td>0.463551</td>\n      <td>...</td>\n      <td>0.742725</td>\n      <td>0.499542</td>\n      <td>0.415749</td>\n      <td>0.441317</td>\n      <td>0.480128</td>\n      <td>0.382295</td>\n      <td>0.440241</td>\n      <td>walk-downstairs</td>\n      <td>16</td>\n      <td>20</td>\n    </tr>\n    <tr>\n      <th>17144614</th>\n      <td>0.500771</td>\n      <td>0.500481</td>\n      <td>0.499657</td>\n      <td>0.502190</td>\n      <td>0.524269</td>\n      <td>0.588536</td>\n      <td>0.585078</td>\n      <td>0.547143</td>\n      <td>0.730659</td>\n      <td>0.463551</td>\n      <td>...</td>\n      <td>0.742725</td>\n      <td>0.499542</td>\n      <td>0.415749</td>\n      <td>0.441317</td>\n      <td>0.480128</td>\n      <td>0.382295</td>\n      <td>0.440241</td>\n      <td>walk-downstairs</td>\n      <td>16</td>\n      <td>20</td>\n    </tr>\n    <tr>\n      <th>17144615</th>\n      <td>0.501595</td>\n      <td>0.500374</td>\n      <td>0.503426</td>\n      <td>0.502312</td>\n      <td>0.520211</td>\n      <td>0.588536</td>\n      <td>0.585078</td>\n      <td>0.547143</td>\n      <td>0.730659</td>\n      <td>0.463551</td>\n      <td>...</td>\n      <td>0.742725</td>\n      <td>0.499542</td>\n      <td>0.415749</td>\n      <td>0.441317</td>\n      <td>0.480128</td>\n      <td>0.382295</td>\n      <td>0.440241</td>\n      <td>walk-downstairs</td>\n      <td>16</td>\n      <td>20</td>\n    </tr>\n    <tr>\n      <th>17144616</th>\n      <td>0.501793</td>\n      <td>0.500587</td>\n      <td>0.500816</td>\n      <td>0.500908</td>\n      <td>0.517372</td>\n      <td>0.587560</td>\n      <td>0.585842</td>\n      <td>0.545675</td>\n      <td>0.723526</td>\n      <td>0.462859</td>\n      <td>...</td>\n      <td>0.739885</td>\n      <td>0.499603</td>\n      <td>0.430093</td>\n      <td>0.432527</td>\n      <td>0.519628</td>\n      <td>0.391253</td>\n      <td>0.451002</td>\n      <td>walk-downstairs</td>\n      <td>16</td>\n      <td>20</td>\n    </tr>\n  </tbody>\n</table>\n<p>17144617 rows × 22 columns</p>\n</div>"
     },
     "execution_count": 7,
     "metadata": {},
     "output_type": "execute_result"
    }
   ],
   "source": [
    "for x in range(1,20):\n",
    "    x = str(x)\n",
    "    df_train[x] = (df_train[x]-df_train[x].min())/(df_train[x].max()-df_train[x].min())\n",
    "\n",
    "df_train"
   ],
   "metadata": {
    "collapsed": false
   }
  },
  {
   "cell_type": "code",
   "execution_count": 12,
   "outputs": [],
   "source": [
    "def segments(df, time_steps, step, label_name):\n",
    "    N_FEATURES = 19\n",
    "    segments = []\n",
    "    labels = []\n",
    "    for i in range(0, len(df) - time_steps, step):\n",
    "        for x in range(1,20):\n",
    "            x = df[str(x)].values[i:i+time_steps]\n",
    "            segments.append(x)\n",
    "\n",
    "        label = mode(df[label_name][i:i+time_steps])[0][0]\n",
    "        labels.append(label)\n",
    "\n",
    "    reshaped_segments = np.asarray(segments, dtype=np.float32).reshape(-1, time_steps, N_FEATURES)\n",
    "    labels = np.asarray(labels)\n",
    "\n",
    "    return reshaped_segments, labels\n",
    "\n",
    "TIME_PERIOD = 2000\n",
    "STEP_DISTANCE = 2000\n",
    "LABEL = 'activityEncode'\n",
    "x_data, y_data = segments(combined_data, TIME_PERIOD, STEP_DISTANCE, LABEL)"
   ],
   "metadata": {
    "collapsed": false
   }
  },
  {
   "cell_type": "code",
   "execution_count": 13,
   "outputs": [
    {
     "name": "stdout",
     "output_type": "stream",
     "text": [
      "x_train shape: (10790, 2000, 19)\n",
      "Training samples: 10790\n",
      "y_train shape: (10790,)\n"
     ]
    }
   ],
   "source": [
    "print('x_train shape:', x_data.shape)\n",
    "print('Training samples:', x_data.shape[0])\n",
    "print('y_train shape:', y_data.shape)\n",
    "\n"
   ],
   "metadata": {
    "collapsed": false
   }
  },
  {
   "cell_type": "code",
   "execution_count": 14,
   "outputs": [],
   "source": [
    "np.save('CLS-data2000.npy', x_data)\n",
    "np.save('CLS-label2000.npy',y_data)\n"
   ],
   "metadata": {
    "collapsed": false
   }
  },
  {
   "cell_type": "code",
   "execution_count": null,
   "outputs": [],
   "source": [
    "import numpy as np\n",
    "x=np.load('CLS-Train_label.npy')"
   ],
   "metadata": {
    "collapsed": false
   }
  },
  {
   "cell_type": "code",
   "execution_count": null,
   "outputs": [],
   "source": [
    "print(x.shape)"
   ],
   "metadata": {
    "collapsed": false
   }
  },
  {
   "cell_type": "code",
   "execution_count": 15,
   "outputs": [],
   "source": [],
   "metadata": {
    "collapsed": false
   }
  },
  {
   "cell_type": "code",
   "execution_count": 15,
   "outputs": [],
   "source": [],
   "metadata": {
    "collapsed": false
   }
  }
 ],
 "metadata": {
  "kernelspec": {
   "display_name": "Python 3",
   "language": "python",
   "name": "python3"
  },
  "language_info": {
   "codemirror_mode": {
    "name": "ipython",
    "version": 2
   },
   "file_extension": ".py",
   "mimetype": "text/x-python",
   "name": "python",
   "nbconvert_exporter": "python",
   "pygments_lexer": "ipython2",
   "version": "2.7.6"
  }
 },
 "nbformat": 4,
 "nbformat_minor": 0
}
