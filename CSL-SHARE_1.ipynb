{
 "cells": [
  {
   "cell_type": "code",
   "execution_count": 1,
   "metadata": {
    "collapsed": true
   },
   "outputs": [],
   "source": [
    "import h5py\n",
    "import pandas as pd\n",
    "import os\n",
    "\n",
    "for x in range(1,21):\n",
    "\n",
    "    if x<10:\n",
    "        x = '0'+str(x)\n",
    "    else:\n",
    "        x = str(x)\n",
    "    # 遍历每个文件\n",
    "    file_dir = 'csldata\\\\'+x # 替换为文件所在的目录路径\n",
    "    file_list = os.listdir(file_dir)\n",
    "    for file_name in file_list:\n",
    "        if file_name.endswith('.h5'):  # 只处理.h5文件\n",
    "            file_path = os.path.join(file_dir, file_name)\n",
    "\n",
    "            # 打开HDF5文件\n",
    "            file = h5py.File(file_path, 'r')\n",
    "\n",
    "            # 获取数据集的名称\n",
    "            dataset_name = list(file.keys())[0]\n",
    "\n",
    "            # 读取数据集的数据\n",
    "            data = file['data'][:]\n",
    "\n",
    "            # 将数据转换为DataFrame\n",
    "            df = pd.DataFrame(data)\n",
    "\n",
    "            # 将DataFrame保存为表格文件\n",
    "\n",
    "            result_file = file_name.replace('.h5', '_result.csv')\n",
    "            result_path = os.path.join(file_dir, result_file)\n",
    "            df.to_csv(result_path, index=False,header=False)\n",
    "\n",
    "            # 关闭文件\n",
    "            file.close()\n",
    "\n",
    "    i=1\n",
    "    for file_name in file_list:\n",
    "\n",
    "        if file_name.endswith('.csv') and not file_name.endswith('_result.csv'):\n",
    "\n",
    "            file_path = os.path.join(file_dir, file_name)\n",
    "            result_file_name = file_name.replace('.csv', '_result.csv')\n",
    "            result_file_path = os.path.join(file_dir, result_file_name)\n",
    "\n",
    "            # 读取第一种CSV文件\n",
    "            df_info = pd.read_csv(file_path, delimiter=',' , header=None, names=['Label', 'Start Timestamp', 'End Timestamp'])\n",
    "            # 读取第二种CSV文件\n",
    "            df_result = pd.read_csv(result_file_path)\n",
    "\n",
    "            # 遍历第一种CSV文件的每一行\n",
    "            for index, row in df_info.iterrows():\n",
    "\n",
    "                start_row = row['Start Timestamp']\n",
    "                end_row = row['End Timestamp']\n",
    "\n",
    "                # 在第二个CSV文件的指定行范围内打标签\n",
    "                df_result.loc[start_row:end_row, 'Label'] = row['Label']\n",
    "\n",
    "            #df_result.to_csv(file_dir+'\\data'+str(i)+\".csv\", index=False,header=False)\n",
    "            # 删除没有标签的行\n",
    "            df_result = df_result[df_result['Label'].notnull()]\n",
    "\n",
    "\n",
    "\n",
    "            save_path = 'CSL\\\\' + x + 'data\\\\'\n",
    "            filename = str(i) + '.csv'\n",
    "            full_path = os.path.join(save_path, filename)\n",
    "\n",
    "            # 检查路径是否存在,不存在则创建\n",
    "            if not os.path.exists(save_path):\n",
    "                os.makedirs(save_path)\n",
    "            df_result.to_csv(full_path, index=False,header=False)\n",
    "            i=i+1"
   ]
  },
  {
   "cell_type": "markdown",
   "source": [],
   "metadata": {
    "collapsed": false
   }
  }
 ],
 "metadata": {
  "kernelspec": {
   "display_name": "Python 3",
   "language": "python",
   "name": "python3"
  },
  "language_info": {
   "codemirror_mode": {
    "name": "ipython",
    "version": 2
   },
   "file_extension": ".py",
   "mimetype": "text/x-python",
   "name": "python",
   "nbconvert_exporter": "python",
   "pygments_lexer": "ipython2",
   "version": "2.7.6"
  }
 },
 "nbformat": 4,
 "nbformat_minor": 0
}
